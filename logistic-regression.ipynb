{
 "cells": [
  {
   "cell_type": "code",
   "execution_count": 3,
   "id": "ef25963a",
   "metadata": {},
   "outputs": [],
   "source": [
    "import numpy as np\n",
    "from sklearn.linear_model import LogisticRegression"
   ]
  },
  {
   "cell_type": "code",
   "execution_count": 5,
   "id": "095dd49b",
   "metadata": {},
   "outputs": [
    {
     "name": "stdout",
     "output_type": "stream",
     "text": [
      "predicted class : 1\n"
     ]
    }
   ],
   "source": [
    "# sample input data\n",
    "\n",
    "X= np.array([[1],[2],[3],[4],[5],[6],[7],[8],[9],[10]])\n",
    "y= np.array([0,0,0,0,0,1,1,1,1,1])\n",
    "\n",
    "#creaate a logistic regression model\n",
    "model = LogisticRegression()\n",
    "\n",
    "# train the model with input data , y (surepervised learining)\n",
    "model.fit(X,y)\n",
    "\n",
    "#predict using the tained model\n",
    "X_new = np.array([[11]])\n",
    "y_pred = model.predict(X_new)\n",
    "\n",
    "#print the prediction class\n",
    "if y_pred[0] == 0:\n",
    "    print('predicted classs : 0')\n",
    "else:\n",
    "    print('predicted class : 1')"
   ]
  },
  {
   "cell_type": "markdown",
   "id": "66a9334c",
   "metadata": {},
   "source": [
    "In this example, we have a simple dataset with a single feature X and the corresponding binary labels y. The X_new variable holds a new data point for which we want to predict the class.\n",
    "\n",
    "We import the LogisticRegression class from scikit-learn and create an instance of the logistic regression model. We then fit the model to our training data using the fit method. This step learns the parameters of the logistic regression model that maximize the likelihood of the observed data.\n",
    "\n",
    "Finally, we use the predict method to make a prediction for the new data point X_new. The predicted class (0 or 1) is stored in y_pred, and we print it accordingly.\n",
    "\n",
    "Keep in mind that logistic regression assumes a linear relationship between the features and the log-odds of the event belonging to a particular class. In real-world scenarios, you would typically handle multiple features, preprocess the data, and evaluate the model's performance using techniques such as cross-validation or metrics like accuracy, precision, and recall."
   ]
  },
  {
   "cell_type": "code",
   "execution_count": null,
   "id": "9647c426",
   "metadata": {},
   "outputs": [],
   "source": []
  }
 ],
 "metadata": {
  "kernelspec": {
   "display_name": "Python 3 (ipykernel)",
   "language": "python",
   "name": "python3"
  },
  "language_info": {
   "codemirror_mode": {
    "name": "ipython",
    "version": 3
   },
   "file_extension": ".py",
   "mimetype": "text/x-python",
   "name": "python",
   "nbconvert_exporter": "python",
   "pygments_lexer": "ipython3",
   "version": "3.10.6"
  }
 },
 "nbformat": 4,
 "nbformat_minor": 5
}
